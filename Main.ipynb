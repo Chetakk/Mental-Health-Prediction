{
 "cells": [
  {
   "cell_type": "code",
   "execution_count": null,
   "metadata": {},
   "outputs": [],
   "source": [
    "import pandas as pd\n",
    "import numpy as np\n",
    "import matplotlib.pyplot as plt\n",
    "from sklearn.model_selection import train_test_split\n",
    "from sklearn.preprocessing import StandardScaler\n",
    "\n",
    "df = pd.read_csv('anxiety_depression_data.csv')\n",
    "print(\"First few rows of the dataset:\")\n",
    "print(df.head())\n",
    "\n",
    "print(f\"Dataset shape: {df.shape}\")\n",
    "print(f\"Missing values:\\n{df.isnull().sum()}\")"
   ]
  },
  {
   "cell_type": "code",
   "execution_count": 7,
   "metadata": {},
   "outputs": [],
   "source": [
    "# A bit of Feature Selection\n",
    "# Define target variables\n",
    "y = df[['Depression_Score', 'Anxiety_Score']]\n",
    "\n",
    "# Select numerical features (including both int64 and float64)\n",
    "numerical_columns = df.select_dtypes(include=['int64', 'float64']).columns\n",
    "feature_columns = [col for col in numerical_columns if col not in ['Depression_Score', 'Anxiety_Score']]\n",
    "x = df[feature_columns]"
   ]
  },
  {
   "cell_type": "code",
   "execution_count": null,
   "metadata": {},
   "outputs": [],
   "source": [
    "# One-Hot Encoding for categorical variables\n",
    "categorical_columns = ['Gender', 'Education_Level', 'Employment_Status', 'Meditation']\n",
    "x_encoded = pd.get_dummies(x, columns=categorical_columns, prefix=categorical_columns)\n",
    "\n",
    "# Update x with encoded features\n",
    "x = x_encoded\n",
    "\n",
    "# Display the shape after encoding\n",
    "print(f\"Shape after One-Hot Encoding: {x.shape}\")\n",
    "print(\"\\nNew feature names:\")\n",
    "print(x.columns.tolist())"
   ]
  },
  {
   "cell_type": "code",
   "execution_count": null,
   "metadata": {},
   "outputs": [],
   "source": [
    "# Split data into training and testing sets\n",
    "x_train, x_test, y_train, y_test = train_test_split(x, y, random_state=40)\n",
    "print(f\"Training set: {x_train.shape}, Test set: {x_test.shape}\")\n",
    "\n",
    "scaler = StandardScaler().fit(x_train)\n",
    "\n",
    "x_train_scaled = scaler.transform(x_train)\n",
    "\n",
    "# Validation\n",
    "print(f\"Training data after scaling - Mean: {x_train_scaled.mean(axis=0).round(10)}\")\n",
    "print(f\"Training data after scaling - Std: {x_train_scaled.std(axis=0)}\")\n",
    "\n",
    "# Transform test data using the training scaler\n",
    "x_test_scaled = scaler.transform(x_test)\n",
    "\n",
    "# Validation of test scaling\n",
    "print(f\"Test data after scaling - Mean: {x_test_scaled.mean(axis=0).round(10)}\")\n",
    "print(f\"Test data after scaling - Std: {x_test_scaled.std(axis=0)}\")"
   ]
  }
 ],
 "metadata": {
  "kernelspec": {
   "display_name": "Python 3",
   "language": "python",
   "name": "python3"
  },
  "language_info": {
   "codemirror_mode": {
    "name": "ipython",
    "version": 3
   },
   "file_extension": ".py",
   "mimetype": "text/x-python",
   "name": "python",
   "nbconvert_exporter": "python",
   "pygments_lexer": "ipython3",
   "version": "3.13.1"
  }
 },
 "nbformat": 4,
 "nbformat_minor": 2
}
